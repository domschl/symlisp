{
 "cells": [
  {
   "cell_type": "markdown",
   "metadata": {},
   "source": [
    "# SymLisp Demonstration Notebook\n",
    "\n",
    "This notebook demonstrates some of the basic and symbolic computation capabilities of SymLisp."
   ]
  },
  {
   "cell_type": "markdown",
   "metadata": {},
   "source": [
    "## 1. Basic Arithmetic\n",
    "\n",
    "SymLisp supports standard arithmetic operations."
   ]
  },
  {
   "cell_type": "code",
   "execution_count": null,
   "metadata": {},
   "outputs": [],
   "source": [
    "(+ 10 5)\n",
    "(- 100 25)\n",
    "(* 7 8)\n",
    "(/ 10 2)"
   ]
  },
  {
   "cell_type": "markdown",
   "metadata": {},
   "source": [
    "It also handles rational numbers automatically."
   ]
  },
  {
   "cell_type": "code",
   "execution_count": null,
   "metadata": {},
   "outputs": [],
   "source": [
    "(+ 1/2 1/3)"
   ]
  },
  {
   "cell_type": "markdown",
   "metadata": {},
   "source": [
    "## 2. List Operations\n",
    "\n",
    "Standard list operations are available."
   ]
  },
  {
   "cell_type": "code",
   "execution_count": null,
   "metadata": {},
   "outputs": [],
   "source": [
    "(define my-list (list 1 2 3 4 5))\n",
    "(car my-list)\n",
    "(cdr my-list)\n",
    "(append my-list (list 6 7))"
   ]
  },
  {
   "cell_type": "markdown",
   "metadata": {},
   "source": [
    "## 3. Function Definition and Usage\n",
    "\n",
    "You can define and use your own functions."
   ]
  },
  {
   "cell_type": "code",
   "execution_count": null,
   "metadata": {},
   "outputs": [],
   "source": [
    "(define (square x) (* x x))"
   ]
  },
  {
   "cell_type": "code",
   "execution_count": null,
   "metadata": {},
   "outputs": [],
   "source": [
    "(square 7)"
   ]
  },
  {
   "cell_type": "markdown",
   "metadata": {},
   "source": [
    "## 4. Symbolic Computation - Simplification\n",
    "\n",
    "SymLisp can simplify symbolic expressions."
   ]
  },
  {
   "cell_type": "code",
   "execution_count": null,
   "metadata": {},
   "outputs": [],
   "source": [
    "(define expr1 '(+ x (* 2 x) 0))"
   ]
  },
  {
   "cell_type": "code",
   "execution_count": null,
   "metadata": {},
   "outputs": [],
   "source": [
    "(simplify expr1)"
   ]
  },
  {
   "cell_type": "markdown",
   "metadata": {},
   "source": [
    "## 5. Symbolic Computation - Expansion\n",
    "\n",
    "It can also expand expressions."
   ]
  },
  {
   "cell_type": "code",
   "execution_count": null,
   "metadata": {},
   "outputs": [],
   "source": [
    "(define expr2 '(* x (+ y 1)))"
   ]
  },
  {
   "cell_type": "code",
   "execution_count": null,
   "metadata": {},
   "outputs": [],
   "source": [
    "(expand expr2)"
   ]
  },
  {
   "cell_type": "markdown",
   "metadata": {},
   "source": [
    "## 6. LaTeX Output for Symbolic Expressions\n",
    "\n",
    "SymLisp's Jupyter kernel can render symbolic expressions as LaTeX using `display-markdown` and `prefix-expr->markdown-latex`."
   ]
  },
  {
   "cell_type": "code",
   "execution_count": null,
   "metadata": {},
   "outputs": [],
   "source": [
    "(display-markdown (prefix-expr->markdown-latex '(+ (^ x 2) (* 2 x) 1)))"
   ]
  },
  {
   "cell_type": "markdown",
   "metadata": {},
   "source": [
    "Here's another example with a trigonometric function after simplification:"
   ]
  },
  {
   "cell_type": "code",
   "execution_count": null,
   "metadata": {},
   "outputs": [],
   "source": [
    "(display-markdown (prefix-expr->markdown-latex (simplify '(cos pi))))"
   ]
  },
  {
   "cell_type": "markdown",
   "metadata": {},
   "source": [
    "And one more example:"
   ]
  },
  {
   "cell_type": "code",
   "execution_count": null,
   "metadata": {},
   "outputs": [],
   "source": [
    "(display-markdown (prefix-expr->markdown-latex '(sin (/ pi 2))))"
   ]
  },
  {
   "cell_type": "markdown",
   "metadata": {},
   "source": [
    "## 7. Markdown Output\n",
    "\n",
    "You can also display arbitrary Markdown content."
   ]
  },
  {
   "cell_type": "code",
   "execution_count": null,
   "metadata": {},
   "outputs": [],
   "source": [
    "(display-markdown \"# This is a Markdown Header\\nThis is **bold** and *italic*.\")"
   ]
  }
 ],
 "metadata": {
  "kernelspec": {
   "display_name": "SymLisp",
   "language": "scheme",
   "name": "symlisp"
  },
  "language_info": {
   "name": "scheme",
   "version": "0.1"
  }
 },
 "nbformat": 4,
 "nbformat_minor": 5
}
